{
 "cells": [
  {
   "cell_type": "markdown",
   "id": "6ebd557e",
   "metadata": {},
   "source": [
    "# Data Preprocessing"
   ]
  },
  {
   "cell_type": "markdown",
   "id": "a75c6545",
   "metadata": {},
   "source": [
    "This file contains the preprocessing for the players visualizations"
   ]
  },
  {
   "cell_type": "code",
   "execution_count": 5,
   "id": "245fe943",
   "metadata": {},
   "outputs": [],
   "source": [
    "import pandas as pd\n",
    "\n",
    "# Load dataset\n",
    "df = pd.read_csv(\"data/player_valuations.csv\")  # Replace with your file\n",
    "\n",
    "# Convert 'date' to datetime\n",
    "df[\"date\"] = pd.to_datetime(df[\"date\"], errors=\"coerce\")\n",
    "\n",
    "df[\"player_id\"] = df[\"player_id\"].astype(int)\n",
    "\n",
    "# Remove missing dates\n",
    "df = df.dropna(subset=[\"date\"])\n",
    "\n",
    "# Fill missing market values using forward fill per player\n",
    "df[\"market_value_in_eur\"] = df.groupby(\"player_id\")[\"market_value_in_eur\"].fillna(method=\"ffill\")\n",
    "\n",
    "# Convert market value to millions\n",
    "df[\"market_value_in_millions\"] = df[\"market_value_in_eur\"] / 1_000_000\n",
    "\n",
    "# Sort by player and date\n",
    "df = df.sort_values(by=[\"player_id\", \"date\"])\n",
    "\n",
    "# Save processed data\n",
    "df.to_csv(\"processed_data/player_valuations.csv\", index=False)"
   ]
  },
  {
   "cell_type": "code",
   "execution_count": null,
   "id": "b964bbb8",
   "metadata": {},
   "outputs": [],
   "source": []
  }
 ],
 "metadata": {
  "kernelspec": {
   "display_name": "Python 3 (ipykernel)",
   "language": "python",
   "name": "python3"
  },
  "language_info": {
   "codemirror_mode": {
    "name": "ipython",
    "version": 3
   },
   "file_extension": ".py",
   "mimetype": "text/x-python",
   "name": "python",
   "nbconvert_exporter": "python",
   "pygments_lexer": "ipython3",
   "version": "3.11.5"
  }
 },
 "nbformat": 4,
 "nbformat_minor": 5
}
