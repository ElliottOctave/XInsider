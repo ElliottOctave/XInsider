{
 "cells": [
  {
   "cell_type": "markdown",
   "id": "e64f78ca",
   "metadata": {},
   "source": [
    "# Data Preprocessing"
   ]
  },
  {
   "cell_type": "markdown",
   "id": "58051e19",
   "metadata": {},
   "source": [
    "This file contains the preprocessing for the players visualizations"
   ]
  },
  {
   "cell_type": "code",
   "execution_count": null,
   "id": "e3763ef8",
   "metadata": {},
   "outputs": [],
   "source": [
    "import pandas as pd\n",
    "\n",
    "# Load dataset\n",
    "df = pd.read_csv(\"data/player_valuations.csv\")  # Replace with your file\n",
    "\n",
    "# Convert 'date' to datetime\n",
    "df[\"date\"] = pd.to_datetime(df[\"date\"], errors=\"coerce\")\n",
    "\n",
    "df[\"player_id\"] = df[\"player_id\"].astype(int)\n",
    "\n",
    "# Remove missing dates\n",
    "df = df.dropna(subset=[\"date\"])\n",
    "\n",
    "# Fill missing market values using forward fill per player\n",
    "df[\"market_value_in_eur\"] = df.groupby(\"player_id\")[\"market_value_in_eur\"].fillna(method=\"ffill\")\n",
    "\n",
    "# Convert market value to millions\n",
    "df[\"market_value_in_millions\"] = df[\"market_value_in_eur\"] / 1_000_000\n",
    "\n",
    "# Sort by player and date\n",
    "df = df.sort_values(by=[\"player_id\", \"date\"])\n",
    "\n",
    "# Save processed data\n",
    "df.to_csv(\"processed_data/player_valuations.csv\", index=False)\n",
    "\n",
    "\n",
    "\n",
    "#################################################################################\n",
    "# Create a summary of the data for each player get # of red cards, yellow cards, assists, goals, and minutes played\n",
    "\n",
    "import pandas as pd\n",
    "\n",
    "base_path = \"./data/\"\n",
    "appearances = pd.read_csv(base_path + \"appearances.csv\")\n",
    "events = pd.read_csv(base_path + \"game_events.csv\")\n",
    "players = pd.read_csv(base_path + \"players.csv\")\n",
    "\n",
    "# Normalize event types\n",
    "events[\"type_norm\"] = events[\"type\"].astype(str).str.strip().str.lower()\n",
    "\n",
    "# 🥅 Goals\n",
    "goals = events[(events[\"type_norm\"] == \"goals\") & (events[\"player_id\"].notnull())]\n",
    "goal_counts = goals.groupby(\"player_id\").size().reset_index(name=\"goals\")\n",
    "\n",
    "# 🎯 Assists\n",
    "assists = events[events[\"player_assist_id\"].notnull()]\n",
    "assist_counts = assists.groupby(\"player_assist_id\").size().reset_index(name=\"assists\")\n",
    "assist_counts.rename(columns={\"player_assist_id\": \"player_id\"}, inplace=True)\n",
    "\n",
    "# ⏱️ Minutes (90 per appearance)\n",
    "appearances[\"estimated_minutes\"] = 90\n",
    "minutes = appearances.groupby(\"player_id\")[\"estimated_minutes\"].sum().reset_index(name=\"minutes\")\n",
    "\n",
    "# 🟨🟥 Cards\n",
    "card_counts = appearances.groupby(\"player_id\")[[\"yellow_cards\", \"red_cards\"]].sum().reset_index()\n",
    "\n",
    "# 🧠 Merge all\n",
    "summary = pd.merge(goal_counts, assist_counts, on=\"player_id\", how=\"outer\")\n",
    "summary = pd.merge(summary, minutes, on=\"player_id\", how=\"outer\")\n",
    "summary = pd.merge(summary, card_counts, on=\"player_id\", how=\"outer\")\n",
    "summary = pd.merge(summary, players[[\"player_id\", \"name\"]], on=\"player_id\", how=\"left\")\n",
    "\n",
    "# Fill missing and convert to int\n",
    "summary.fillna(0, inplace=True)\n",
    "summary[[\"goals\", \"assists\", \"yellow_cards\", \"red_cards\", \"minutes\"]] = summary[\n",
    "    [\"goals\", \"assists\", \"yellow_cards\", \"red_cards\", \"minutes\"]\n",
    "].astype(int)\n",
    "\n",
    "# Final structure\n",
    "summary = summary[[\"player_id\", \"name\", \"goals\", \"assists\", \"yellow_cards\", \"red_cards\", \"minutes\"]]\n",
    "summary.to_csv(\"player_summary.csv\", index=False)\n",
    "print(\"✅ Saved to player_summary.csv\")\n",
    "\n",
    "# 🏆 Print Top 15 per category\n",
    "def print_top_15(column, label):\n",
    "    print(f\"\\n🏆 Top 15 Players by {label}:\\n\")\n",
    "    top = summary.sort_values(column, ascending=False).head(15)\n",
    "    print(top[[\"name\", column]].to_string(index=False))\n"
   ]
  },
  {
   "cell_type": "code",
   "execution_count": null,
   "id": "7a2fd5ff",
   "metadata": {},
   "outputs": [],
   "source": []
  }
 ],
 "metadata": {
  "kernelspec": {
   "display_name": "Python 3 (ipykernel)",
   "language": "python",
   "name": "python3"
  },
  "language_info": {
   "codemirror_mode": {
    "name": "ipython",
    "version": 3
   },
   "file_extension": ".py",
   "mimetype": "text/x-python",
   "name": "python",
   "nbconvert_exporter": "python",
   "pygments_lexer": "ipython3",
   "version": "3.11.5"
  }
 },
 "nbformat": 4,
 "nbformat_minor": 5
}
